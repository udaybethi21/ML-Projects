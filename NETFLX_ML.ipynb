{
 "cells": [
  {
   "cell_type": "code",
   "execution_count": 136,
   "id": "dc06fb92-db9d-4143-86e3-f40a29c605e9",
   "metadata": {},
   "outputs": [],
   "source": [
    "import numpy as np\n",
    "import pandas as pd\n",
    "import matplotlib.pyplot as plt\n",
    "import seaborn as sns"
   ]
  },
  {
   "cell_type": "code",
   "execution_count": 137,
   "id": "78c1079e-c3e3-4711-bdb7-0a76f0c0e74b",
   "metadata": {},
   "outputs": [
    {
     "data": {
      "text/html": [
       "<div>\n",
       "<style scoped>\n",
       "    .dataframe tbody tr th:only-of-type {\n",
       "        vertical-align: middle;\n",
       "    }\n",
       "\n",
       "    .dataframe tbody tr th {\n",
       "        vertical-align: top;\n",
       "    }\n",
       "\n",
       "    .dataframe thead th {\n",
       "        text-align: right;\n",
       "    }\n",
       "</style>\n",
       "<table border=\"1\" class=\"dataframe\">\n",
       "  <thead>\n",
       "    <tr style=\"text-align: right;\">\n",
       "      <th></th>\n",
       "      <th>show_id</th>\n",
       "      <th>type</th>\n",
       "      <th>title</th>\n",
       "      <th>director</th>\n",
       "      <th>cast</th>\n",
       "      <th>country</th>\n",
       "      <th>date_added</th>\n",
       "      <th>release_year</th>\n",
       "      <th>rating</th>\n",
       "      <th>duration</th>\n",
       "      <th>listed_in</th>\n",
       "      <th>description</th>\n",
       "    </tr>\n",
       "  </thead>\n",
       "  <tbody>\n",
       "    <tr>\n",
       "      <th>0</th>\n",
       "      <td>81145628</td>\n",
       "      <td>Movie</td>\n",
       "      <td>Norm of the North: King Sized Adventure</td>\n",
       "      <td>Richard Finn, Tim Maltby</td>\n",
       "      <td>Alan Marriott, Andrew Toth, Brian Dobson, Cole...</td>\n",
       "      <td>United States, India, South Korea, China</td>\n",
       "      <td>September 9, 2019</td>\n",
       "      <td>2019</td>\n",
       "      <td>TV-PG</td>\n",
       "      <td>90 min</td>\n",
       "      <td>Children &amp; Family Movies, Comedies</td>\n",
       "      <td>Before planning an awesome wedding for his gra...</td>\n",
       "    </tr>\n",
       "    <tr>\n",
       "      <th>1</th>\n",
       "      <td>80117401</td>\n",
       "      <td>Movie</td>\n",
       "      <td>Jandino: Whatever it Takes</td>\n",
       "      <td>NaN</td>\n",
       "      <td>Jandino Asporaat</td>\n",
       "      <td>United Kingdom</td>\n",
       "      <td>September 9, 2016</td>\n",
       "      <td>2016</td>\n",
       "      <td>TV-MA</td>\n",
       "      <td>94 min</td>\n",
       "      <td>Stand-Up Comedy</td>\n",
       "      <td>Jandino Asporaat riffs on the challenges of ra...</td>\n",
       "    </tr>\n",
       "    <tr>\n",
       "      <th>2</th>\n",
       "      <td>70234439</td>\n",
       "      <td>TV Show</td>\n",
       "      <td>Transformers Prime</td>\n",
       "      <td>NaN</td>\n",
       "      <td>Peter Cullen, Sumalee Montano, Frank Welker, J...</td>\n",
       "      <td>United States</td>\n",
       "      <td>September 8, 2018</td>\n",
       "      <td>2013</td>\n",
       "      <td>TV-Y7-FV</td>\n",
       "      <td>1 Season</td>\n",
       "      <td>Kids' TV</td>\n",
       "      <td>With the help of three human allies, the Autob...</td>\n",
       "    </tr>\n",
       "    <tr>\n",
       "      <th>3</th>\n",
       "      <td>80058654</td>\n",
       "      <td>TV Show</td>\n",
       "      <td>Transformers: Robots in Disguise</td>\n",
       "      <td>NaN</td>\n",
       "      <td>Will Friedle, Darren Criss, Constance Zimmer, ...</td>\n",
       "      <td>United States</td>\n",
       "      <td>September 8, 2018</td>\n",
       "      <td>2016</td>\n",
       "      <td>TV-Y7</td>\n",
       "      <td>1 Season</td>\n",
       "      <td>Kids' TV</td>\n",
       "      <td>When a prison ship crash unleashes hundreds of...</td>\n",
       "    </tr>\n",
       "    <tr>\n",
       "      <th>4</th>\n",
       "      <td>80125979</td>\n",
       "      <td>Movie</td>\n",
       "      <td>#realityhigh</td>\n",
       "      <td>Fernando Lebrija</td>\n",
       "      <td>Nesta Cooper, Kate Walsh, John Michael Higgins...</td>\n",
       "      <td>United States</td>\n",
       "      <td>September 8, 2017</td>\n",
       "      <td>2017</td>\n",
       "      <td>TV-14</td>\n",
       "      <td>99 min</td>\n",
       "      <td>Comedies</td>\n",
       "      <td>When nerdy high schooler Dani finally attracts...</td>\n",
       "    </tr>\n",
       "    <tr>\n",
       "      <th>...</th>\n",
       "      <td>...</td>\n",
       "      <td>...</td>\n",
       "      <td>...</td>\n",
       "      <td>...</td>\n",
       "      <td>...</td>\n",
       "      <td>...</td>\n",
       "      <td>...</td>\n",
       "      <td>...</td>\n",
       "      <td>...</td>\n",
       "      <td>...</td>\n",
       "      <td>...</td>\n",
       "      <td>...</td>\n",
       "    </tr>\n",
       "    <tr>\n",
       "      <th>6231</th>\n",
       "      <td>80000063</td>\n",
       "      <td>TV Show</td>\n",
       "      <td>Red vs. Blue</td>\n",
       "      <td>NaN</td>\n",
       "      <td>Burnie Burns, Jason SaldaÃ±a, Gustavo Sorola, ...</td>\n",
       "      <td>United States</td>\n",
       "      <td>NaN</td>\n",
       "      <td>2015</td>\n",
       "      <td>NR</td>\n",
       "      <td>13 Seasons</td>\n",
       "      <td>TV Action &amp; Adventure, TV Comedies, TV Sci-Fi ...</td>\n",
       "      <td>This parody of first-person shooter games, mil...</td>\n",
       "    </tr>\n",
       "    <tr>\n",
       "      <th>6232</th>\n",
       "      <td>70286564</td>\n",
       "      <td>TV Show</td>\n",
       "      <td>Maron</td>\n",
       "      <td>NaN</td>\n",
       "      <td>Marc Maron, Judd Hirsch, Josh Brener, Nora Zeh...</td>\n",
       "      <td>United States</td>\n",
       "      <td>NaN</td>\n",
       "      <td>2016</td>\n",
       "      <td>TV-MA</td>\n",
       "      <td>4 Seasons</td>\n",
       "      <td>TV Comedies</td>\n",
       "      <td>Marc Maron stars as Marc Maron, who interviews...</td>\n",
       "    </tr>\n",
       "    <tr>\n",
       "      <th>6233</th>\n",
       "      <td>80116008</td>\n",
       "      <td>Movie</td>\n",
       "      <td>Little Baby Bum: Nursery Rhyme Friends</td>\n",
       "      <td>NaN</td>\n",
       "      <td>NaN</td>\n",
       "      <td>NaN</td>\n",
       "      <td>NaN</td>\n",
       "      <td>2016</td>\n",
       "      <td>NaN</td>\n",
       "      <td>60 min</td>\n",
       "      <td>Movies</td>\n",
       "      <td>Nursery rhymes and original music for children...</td>\n",
       "    </tr>\n",
       "    <tr>\n",
       "      <th>6234</th>\n",
       "      <td>70281022</td>\n",
       "      <td>TV Show</td>\n",
       "      <td>A Young Doctor's Notebook and Other Stories</td>\n",
       "      <td>NaN</td>\n",
       "      <td>Daniel Radcliffe, Jon Hamm, Adam Godley, Chris...</td>\n",
       "      <td>United Kingdom</td>\n",
       "      <td>NaN</td>\n",
       "      <td>2013</td>\n",
       "      <td>TV-MA</td>\n",
       "      <td>2 Seasons</td>\n",
       "      <td>British TV Shows, TV Comedies, TV Dramas</td>\n",
       "      <td>Set during the Russian Revolution, this comic ...</td>\n",
       "    </tr>\n",
       "    <tr>\n",
       "      <th>6235</th>\n",
       "      <td>70153404</td>\n",
       "      <td>TV Show</td>\n",
       "      <td>Friends</td>\n",
       "      <td>NaN</td>\n",
       "      <td>Jennifer Aniston, Courteney Cox, Lisa Kudrow, ...</td>\n",
       "      <td>United States</td>\n",
       "      <td>NaN</td>\n",
       "      <td>2003</td>\n",
       "      <td>TV-14</td>\n",
       "      <td>10 Seasons</td>\n",
       "      <td>Classic &amp; Cult TV, TV Comedies</td>\n",
       "      <td>This hit sitcom follows the merry misadventure...</td>\n",
       "    </tr>\n",
       "  </tbody>\n",
       "</table>\n",
       "<p>6236 rows × 12 columns</p>\n",
       "</div>"
      ],
      "text/plain": [
       "       show_id     type                                        title  \\\n",
       "0     81145628    Movie      Norm of the North: King Sized Adventure   \n",
       "1     80117401    Movie                   Jandino: Whatever it Takes   \n",
       "2     70234439  TV Show                           Transformers Prime   \n",
       "3     80058654  TV Show             Transformers: Robots in Disguise   \n",
       "4     80125979    Movie                                 #realityhigh   \n",
       "...        ...      ...                                          ...   \n",
       "6231  80000063  TV Show                                 Red vs. Blue   \n",
       "6232  70286564  TV Show                                        Maron   \n",
       "6233  80116008    Movie       Little Baby Bum: Nursery Rhyme Friends   \n",
       "6234  70281022  TV Show  A Young Doctor's Notebook and Other Stories   \n",
       "6235  70153404  TV Show                                      Friends   \n",
       "\n",
       "                      director  \\\n",
       "0     Richard Finn, Tim Maltby   \n",
       "1                          NaN   \n",
       "2                          NaN   \n",
       "3                          NaN   \n",
       "4             Fernando Lebrija   \n",
       "...                        ...   \n",
       "6231                       NaN   \n",
       "6232                       NaN   \n",
       "6233                       NaN   \n",
       "6234                       NaN   \n",
       "6235                       NaN   \n",
       "\n",
       "                                                   cast  \\\n",
       "0     Alan Marriott, Andrew Toth, Brian Dobson, Cole...   \n",
       "1                                      Jandino Asporaat   \n",
       "2     Peter Cullen, Sumalee Montano, Frank Welker, J...   \n",
       "3     Will Friedle, Darren Criss, Constance Zimmer, ...   \n",
       "4     Nesta Cooper, Kate Walsh, John Michael Higgins...   \n",
       "...                                                 ...   \n",
       "6231  Burnie Burns, Jason SaldaÃ±a, Gustavo Sorola, ...   \n",
       "6232  Marc Maron, Judd Hirsch, Josh Brener, Nora Zeh...   \n",
       "6233                                                NaN   \n",
       "6234  Daniel Radcliffe, Jon Hamm, Adam Godley, Chris...   \n",
       "6235  Jennifer Aniston, Courteney Cox, Lisa Kudrow, ...   \n",
       "\n",
       "                                       country         date_added  \\\n",
       "0     United States, India, South Korea, China  September 9, 2019   \n",
       "1                               United Kingdom  September 9, 2016   \n",
       "2                                United States  September 8, 2018   \n",
       "3                                United States  September 8, 2018   \n",
       "4                                United States  September 8, 2017   \n",
       "...                                        ...                ...   \n",
       "6231                             United States                NaN   \n",
       "6232                             United States                NaN   \n",
       "6233                                       NaN                NaN   \n",
       "6234                            United Kingdom                NaN   \n",
       "6235                             United States                NaN   \n",
       "\n",
       "     release_year    rating    duration  \\\n",
       "0            2019     TV-PG      90 min   \n",
       "1            2016     TV-MA      94 min   \n",
       "2            2013  TV-Y7-FV    1 Season   \n",
       "3            2016     TV-Y7    1 Season   \n",
       "4            2017     TV-14      99 min   \n",
       "...           ...       ...         ...   \n",
       "6231         2015        NR  13 Seasons   \n",
       "6232         2016     TV-MA   4 Seasons   \n",
       "6233         2016       NaN      60 min   \n",
       "6234         2013     TV-MA   2 Seasons   \n",
       "6235         2003     TV-14  10 Seasons   \n",
       "\n",
       "                                              listed_in  \\\n",
       "0                    Children & Family Movies, Comedies   \n",
       "1                                       Stand-Up Comedy   \n",
       "2                                              Kids' TV   \n",
       "3                                              Kids' TV   \n",
       "4                                              Comedies   \n",
       "...                                                 ...   \n",
       "6231  TV Action & Adventure, TV Comedies, TV Sci-Fi ...   \n",
       "6232                                        TV Comedies   \n",
       "6233                                             Movies   \n",
       "6234           British TV Shows, TV Comedies, TV Dramas   \n",
       "6235                     Classic & Cult TV, TV Comedies   \n",
       "\n",
       "                                            description  \n",
       "0     Before planning an awesome wedding for his gra...  \n",
       "1     Jandino Asporaat riffs on the challenges of ra...  \n",
       "2     With the help of three human allies, the Autob...  \n",
       "3     When a prison ship crash unleashes hundreds of...  \n",
       "4     When nerdy high schooler Dani finally attracts...  \n",
       "...                                                 ...  \n",
       "6231  This parody of first-person shooter games, mil...  \n",
       "6232  Marc Maron stars as Marc Maron, who interviews...  \n",
       "6233  Nursery rhymes and original music for children...  \n",
       "6234  Set during the Russian Revolution, this comic ...  \n",
       "6235  This hit sitcom follows the merry misadventure...  \n",
       "\n",
       "[6236 rows x 12 columns]"
      ]
     },
     "execution_count": 137,
     "metadata": {},
     "output_type": "execute_result"
    }
   ],
   "source": [
    "df = pd.read_csv(r\"C:\\Users\\Krishna Murthy\\Downloads\\netflix.csv\")\n",
    "df"
   ]
  },
  {
   "cell_type": "code",
   "execution_count": 138,
   "id": "193b77e4-83f6-4720-a208-0453ee396f18",
   "metadata": {},
   "outputs": [
    {
     "name": "stdout",
     "output_type": "stream",
     "text": [
      "<class 'pandas.core.frame.DataFrame'>\n",
      "RangeIndex: 6236 entries, 0 to 6235\n",
      "Data columns (total 12 columns):\n",
      " #   Column        Non-Null Count  Dtype \n",
      "---  ------        --------------  ----- \n",
      " 0   show_id       6236 non-null   object\n",
      " 1   type          6235 non-null   object\n",
      " 2   title         6234 non-null   object\n",
      " 3   director      4265 non-null   object\n",
      " 4   cast          5665 non-null   object\n",
      " 5   country       5758 non-null   object\n",
      " 6   date_added    6223 non-null   object\n",
      " 7   release_year  6234 non-null   object\n",
      " 8   rating        6224 non-null   object\n",
      " 9   duration      6234 non-null   object\n",
      " 10  listed_in     6233 non-null   object\n",
      " 11  description   6233 non-null   object\n",
      "dtypes: object(12)\n",
      "memory usage: 584.8+ KB\n"
     ]
    }
   ],
   "source": [
    "df.info()"
   ]
  },
  {
   "cell_type": "markdown",
   "id": "bd06658e-7507-43e2-812f-01f1960d8dd4",
   "metadata": {},
   "source": [
    "# EDA"
   ]
  },
  {
   "cell_type": "code",
   "execution_count": 139,
   "id": "165b4667-5a00-4eac-9ab6-b8a835c3d5b0",
   "metadata": {},
   "outputs": [
    {
     "data": {
      "text/plain": [
       "0"
      ]
     },
     "execution_count": 139,
     "metadata": {},
     "output_type": "execute_result"
    }
   ],
   "source": [
    "df.duplicated().sum()"
   ]
  },
  {
   "cell_type": "code",
   "execution_count": 140,
   "id": "08312ea6-3eee-41d6-a46c-82eb586db8f3",
   "metadata": {},
   "outputs": [],
   "source": [
    "# Replace null values with 'Unknown'\n",
    "columns = ['country','director','cast','title','type','date_added','release_year','listed_in','duration','description','rating']\n",
    "for col in columns:\n",
    "    df[col] = df[col].fillna('Unknown')"
   ]
  },
  {
   "cell_type": "code",
   "execution_count": 141,
   "id": "cf47d301-3494-4424-b381-12bb4da895b2",
   "metadata": {},
   "outputs": [
    {
     "data": {
      "text/plain": [
       "show_id         0\n",
       "type            0\n",
       "title           0\n",
       "director        0\n",
       "cast            0\n",
       "country         0\n",
       "date_added      0\n",
       "release_year    0\n",
       "rating          0\n",
       "duration        0\n",
       "listed_in       0\n",
       "description     0\n",
       "dtype: int64"
      ]
     },
     "execution_count": 141,
     "metadata": {},
     "output_type": "execute_result"
    }
   ],
   "source": [
    "df.isnull().sum()"
   ]
  },
  {
   "cell_type": "code",
   "execution_count": 142,
   "id": "6e4efbbb-39c8-40af-8dd2-228cb244ce19",
   "metadata": {},
   "outputs": [],
   "source": [
    "# Clean the 'duration' column (e.g., '1 season', '164 min')\n",
    "df['duration_cleaned'] = df['duration'].apply(lambda x: str(x).replace(' Season', '').replace(' Seasons', '').replace(' min', '').strip())\n",
    "\n",
    "# Convert the cleaned 'duration_cleaned' column to numeric\n",
    "# Handle 'None' or invalid entries by setting them to NaN\n",
    "df['duration_cleaned'] = pd.to_numeric(df['duration_cleaned'], errors='coerce')\n",
    "\n",
    "# Fill missing values with the median or a default value (e.g., 0)\n",
    "df['duration_cleaned'] = df['duration_cleaned'].fillna(df['duration_cleaned'].median())"
   ]
  },
  {
   "cell_type": "code",
   "execution_count": 143,
   "id": "654c4bb8-2b4b-4e9e-9e60-bfff6e95844d",
   "metadata": {},
   "outputs": [],
   "source": [
    "df=df[df['type'].isin(['TV Show', 'Movie'])].copy()"
   ]
  },
  {
   "cell_type": "code",
   "execution_count": 144,
   "id": "4f3dfe9f-5cb4-44b0-b7fe-9de3dcccd845",
   "metadata": {},
   "outputs": [],
   "source": [
    "# Convert numeric-like columns to numeric\n",
    "df['release_year'] = pd.to_numeric(df['release_year'], errors='coerce')"
   ]
  },
  {
   "cell_type": "code",
   "execution_count": 148,
   "id": "7d969923-18ce-423c-976a-60c4b7c8206c",
   "metadata": {},
   "outputs": [
    {
     "data": {
      "text/html": [
       "<div>\n",
       "<style scoped>\n",
       "    .dataframe tbody tr th:only-of-type {\n",
       "        vertical-align: middle;\n",
       "    }\n",
       "\n",
       "    .dataframe tbody tr th {\n",
       "        vertical-align: top;\n",
       "    }\n",
       "\n",
       "    .dataframe thead th {\n",
       "        text-align: right;\n",
       "    }\n",
       "</style>\n",
       "<table border=\"1\" class=\"dataframe\">\n",
       "  <thead>\n",
       "    <tr style=\"text-align: right;\">\n",
       "      <th></th>\n",
       "      <th>show_id</th>\n",
       "      <th>type</th>\n",
       "      <th>title</th>\n",
       "      <th>director</th>\n",
       "      <th>cast</th>\n",
       "      <th>country</th>\n",
       "      <th>date_added</th>\n",
       "      <th>release_year</th>\n",
       "      <th>rating</th>\n",
       "      <th>duration</th>\n",
       "      <th>listed_in</th>\n",
       "      <th>description</th>\n",
       "      <th>duration_cleaned</th>\n",
       "    </tr>\n",
       "  </thead>\n",
       "  <tbody>\n",
       "    <tr>\n",
       "      <th>0</th>\n",
       "      <td>81145628</td>\n",
       "      <td>Movie</td>\n",
       "      <td>Norm of the North: King Sized Adventure</td>\n",
       "      <td>Richard Finn, Tim Maltby</td>\n",
       "      <td>Alan Marriott, Andrew Toth, Brian Dobson, Cole...</td>\n",
       "      <td>United States, India, South Korea, China</td>\n",
       "      <td>September 9, 2019</td>\n",
       "      <td>2019.0</td>\n",
       "      <td>TV-PG</td>\n",
       "      <td>90 min</td>\n",
       "      <td>Children &amp; Family Movies, Comedies</td>\n",
       "      <td>Before planning an awesome wedding for his gra...</td>\n",
       "      <td>90.0</td>\n",
       "    </tr>\n",
       "    <tr>\n",
       "      <th>1</th>\n",
       "      <td>80117401</td>\n",
       "      <td>Movie</td>\n",
       "      <td>Jandino: Whatever it Takes</td>\n",
       "      <td>Unknown</td>\n",
       "      <td>Jandino Asporaat</td>\n",
       "      <td>United Kingdom</td>\n",
       "      <td>September 9, 2016</td>\n",
       "      <td>2016.0</td>\n",
       "      <td>TV-MA</td>\n",
       "      <td>94 min</td>\n",
       "      <td>Stand-Up Comedy</td>\n",
       "      <td>Jandino Asporaat riffs on the challenges of ra...</td>\n",
       "      <td>94.0</td>\n",
       "    </tr>\n",
       "    <tr>\n",
       "      <th>2</th>\n",
       "      <td>70234439</td>\n",
       "      <td>TV Show</td>\n",
       "      <td>Transformers Prime</td>\n",
       "      <td>Unknown</td>\n",
       "      <td>Peter Cullen, Sumalee Montano, Frank Welker, J...</td>\n",
       "      <td>United States</td>\n",
       "      <td>September 8, 2018</td>\n",
       "      <td>2013.0</td>\n",
       "      <td>TV-Y7-FV</td>\n",
       "      <td>1 Season</td>\n",
       "      <td>Kids' TV</td>\n",
       "      <td>With the help of three human allies, the Autob...</td>\n",
       "      <td>1.0</td>\n",
       "    </tr>\n",
       "    <tr>\n",
       "      <th>3</th>\n",
       "      <td>80058654</td>\n",
       "      <td>TV Show</td>\n",
       "      <td>Transformers: Robots in Disguise</td>\n",
       "      <td>Unknown</td>\n",
       "      <td>Will Friedle, Darren Criss, Constance Zimmer, ...</td>\n",
       "      <td>United States</td>\n",
       "      <td>September 8, 2018</td>\n",
       "      <td>2016.0</td>\n",
       "      <td>TV-Y7</td>\n",
       "      <td>1 Season</td>\n",
       "      <td>Kids' TV</td>\n",
       "      <td>When a prison ship crash unleashes hundreds of...</td>\n",
       "      <td>1.0</td>\n",
       "    </tr>\n",
       "    <tr>\n",
       "      <th>4</th>\n",
       "      <td>80125979</td>\n",
       "      <td>Movie</td>\n",
       "      <td>#realityhigh</td>\n",
       "      <td>Fernando Lebrija</td>\n",
       "      <td>Nesta Cooper, Kate Walsh, John Michael Higgins...</td>\n",
       "      <td>United States</td>\n",
       "      <td>September 8, 2017</td>\n",
       "      <td>2017.0</td>\n",
       "      <td>TV-14</td>\n",
       "      <td>99 min</td>\n",
       "      <td>Comedies</td>\n",
       "      <td>When nerdy high schooler Dani finally attracts...</td>\n",
       "      <td>99.0</td>\n",
       "    </tr>\n",
       "  </tbody>\n",
       "</table>\n",
       "</div>"
      ],
      "text/plain": [
       "    show_id     type                                    title  \\\n",
       "0  81145628    Movie  Norm of the North: King Sized Adventure   \n",
       "1  80117401    Movie               Jandino: Whatever it Takes   \n",
       "2  70234439  TV Show                       Transformers Prime   \n",
       "3  80058654  TV Show         Transformers: Robots in Disguise   \n",
       "4  80125979    Movie                             #realityhigh   \n",
       "\n",
       "                   director  \\\n",
       "0  Richard Finn, Tim Maltby   \n",
       "1                   Unknown   \n",
       "2                   Unknown   \n",
       "3                   Unknown   \n",
       "4          Fernando Lebrija   \n",
       "\n",
       "                                                cast  \\\n",
       "0  Alan Marriott, Andrew Toth, Brian Dobson, Cole...   \n",
       "1                                   Jandino Asporaat   \n",
       "2  Peter Cullen, Sumalee Montano, Frank Welker, J...   \n",
       "3  Will Friedle, Darren Criss, Constance Zimmer, ...   \n",
       "4  Nesta Cooper, Kate Walsh, John Michael Higgins...   \n",
       "\n",
       "                                    country         date_added  release_year  \\\n",
       "0  United States, India, South Korea, China  September 9, 2019        2019.0   \n",
       "1                            United Kingdom  September 9, 2016        2016.0   \n",
       "2                             United States  September 8, 2018        2013.0   \n",
       "3                             United States  September 8, 2018        2016.0   \n",
       "4                             United States  September 8, 2017        2017.0   \n",
       "\n",
       "     rating  duration                           listed_in  \\\n",
       "0     TV-PG    90 min  Children & Family Movies, Comedies   \n",
       "1     TV-MA    94 min                     Stand-Up Comedy   \n",
       "2  TV-Y7-FV  1 Season                            Kids' TV   \n",
       "3     TV-Y7  1 Season                            Kids' TV   \n",
       "4     TV-14    99 min                            Comedies   \n",
       "\n",
       "                                         description  duration_cleaned  \n",
       "0  Before planning an awesome wedding for his gra...              90.0  \n",
       "1  Jandino Asporaat riffs on the challenges of ra...              94.0  \n",
       "2  With the help of three human allies, the Autob...               1.0  \n",
       "3  When a prison ship crash unleashes hundreds of...               1.0  \n",
       "4  When nerdy high schooler Dani finally attracts...              99.0  "
      ]
     },
     "execution_count": 148,
     "metadata": {},
     "output_type": "execute_result"
    }
   ],
   "source": [
    "df.head()"
   ]
  },
  {
   "cell_type": "markdown",
   "id": "75aa4fee-63ec-4e77-932a-214db87c5340",
   "metadata": {},
   "source": [
    "# MODEL BUILDING"
   ]
  },
  {
   "cell_type": "code",
   "execution_count": 149,
   "id": "890b4424-3b7f-4ba7-8d50-7f00b3e5e315",
   "metadata": {},
   "outputs": [],
   "source": [
    "X = df[['duration_cleaned','rating','release_year']]\n",
    "y = df['type']"
   ]
  },
  {
   "cell_type": "code",
   "execution_count": 150,
   "id": "22f87417-21dc-4e04-ad86-161cd8a09107",
   "metadata": {},
   "outputs": [
    {
     "name": "stdout",
     "output_type": "stream",
     "text": [
      "(4987, 3) (4987,)\n",
      "(1247, 3) (1247,)\n"
     ]
    }
   ],
   "source": [
    "# Splitting data\n",
    "from sklearn.model_selection import train_test_split\n",
    "X_train, X_test, y_train, y_test = train_test_split(X,y,\n",
    "                                                   test_size = 0.2,\n",
    "                                                   random_state = 42)\n",
    "print(X_train.shape, y_train.shape)\n",
    "print(X_test.shape, y_test.shape)"
   ]
  },
  {
   "cell_type": "code",
   "execution_count": 151,
   "id": "277a9431-e489-45e4-ba3b-0117eb3f920a",
   "metadata": {},
   "outputs": [
    {
     "data": {
      "text/plain": [
       "Index(['duration_cleaned', 'rating', 'release_year'], dtype='object')"
      ]
     },
     "execution_count": 151,
     "metadata": {},
     "output_type": "execute_result"
    }
   ],
   "source": [
    "X_train.columns"
   ]
  },
  {
   "cell_type": "code",
   "execution_count": 152,
   "id": "320cafe4-0270-432b-ba48-c403db32f3f6",
   "metadata": {},
   "outputs": [
    {
     "name": "stdout",
     "output_type": "stream",
     "text": [
      "(4987, 2)\n",
      "(1247, 2)\n"
     ]
    }
   ],
   "source": [
    "# Separating Categorical and Numerical Columns\n",
    "X_train_num = X_train.select_dtypes(include=['float64'])\n",
    "X_test_num = X_test.select_dtypes(include=['float64'])\n",
    "print(X_train_num.shape)\n",
    "print(X_test_num.shape)"
   ]
  },
  {
   "cell_type": "code",
   "execution_count": 153,
   "id": "3274c377-4663-444d-911c-5ffb5d1ed52e",
   "metadata": {},
   "outputs": [
    {
     "data": {
      "text/plain": [
       "Index(['duration_cleaned', 'release_year'], dtype='object')"
      ]
     },
     "execution_count": 153,
     "metadata": {},
     "output_type": "execute_result"
    }
   ],
   "source": [
    "X_train_num.columns"
   ]
  },
  {
   "cell_type": "code",
   "execution_count": 154,
   "id": "c6b56c1f-daf6-447f-bcc6-013a49ae80e5",
   "metadata": {},
   "outputs": [
    {
     "name": "stdout",
     "output_type": "stream",
     "text": [
      "(4987, 1)\n",
      "(1247, 1)\n"
     ]
    }
   ],
   "source": [
    "# Seperating Categorical columns\n",
    "X_train_cat = X_train.select_dtypes(include=['object'])\n",
    "X_test_cat = X_test.select_dtypes(include=['object'])\n",
    "print(X_train_cat.shape)\n",
    "print(X_test_cat.shape)"
   ]
  },
  {
   "cell_type": "code",
   "execution_count": 155,
   "id": "3ea007c2-ff40-4a5a-9009-b2e8f08a3a9e",
   "metadata": {},
   "outputs": [
    {
     "data": {
      "text/plain": [
       "Index(['rating'], dtype='object')"
      ]
     },
     "execution_count": 155,
     "metadata": {},
     "output_type": "execute_result"
    }
   ],
   "source": [
    "X_train_cat.columns"
   ]
  },
  {
   "cell_type": "code",
   "execution_count": 156,
   "id": "b9660fa3-727a-4325-9d68-ec94511ddc4c",
   "metadata": {},
   "outputs": [
    {
     "name": "stdout",
     "output_type": "stream",
     "text": [
      "<class 'pandas.core.frame.DataFrame'>\n",
      "Index: 4987 entries, 1025 to 860\n",
      "Data columns (total 1 columns):\n",
      " #   Column  Non-Null Count  Dtype \n",
      "---  ------  --------------  ----- \n",
      " 0   rating  4987 non-null   object\n",
      "dtypes: object(1)\n",
      "memory usage: 77.9+ KB\n"
     ]
    }
   ],
   "source": [
    "X_train_cat.info()"
   ]
  },
  {
   "cell_type": "markdown",
   "id": "c49f6260-758d-43d3-807b-099af2dddbdb",
   "metadata": {},
   "source": [
    "## DATA PREPROCESSING"
   ]
  },
  {
   "cell_type": "code",
   "execution_count": 157,
   "id": "cebb418f-61fc-429e-b8ed-498abf309bee",
   "metadata": {},
   "outputs": [],
   "source": [
    "# Scaling the numerical data\n",
    "from sklearn.preprocessing import StandardScaler\n",
    "sc=StandardScaler()\n",
    "X_train_num_trans =sc.fit_transform(X_train_num)\n",
    "X_test_num_trans =sc.transform(X_test_num)"
   ]
  },
  {
   "cell_type": "code",
   "execution_count": 158,
   "id": "89900c1c-eeeb-4f35-9db5-e1e1ff294c39",
   "metadata": {},
   "outputs": [
    {
     "name": "stdout",
     "output_type": "stream",
     "text": [
      "(4987, 2)\n",
      "(1247, 2)\n"
     ]
    }
   ],
   "source": [
    "print(X_train_num_trans.shape)\n",
    "print(X_test_num_trans.shape)"
   ]
  },
  {
   "cell_type": "code",
   "execution_count": 159,
   "id": "0d8fa5a0-424e-417b-92de-96c297a81af8",
   "metadata": {},
   "outputs": [],
   "source": [
    "#encoding categorical data\n",
    "from sklearn.preprocessing import LabelEncoder\n",
    "\n",
    "# Initialize the LabelEncoder\n",
    "label_encoder = LabelEncoder()\n",
    "\n",
    "# Encode the 'rating' column\n",
    "X_train_rating_encoded = label_encoder.fit_transform(X_train_cat['rating']).reshape(-1,1)\n",
    "X_test_rating_encoded = label_encoder.transform(X_test_cat['rating']).reshape(-1,1)\n",
    "\n",
    "# Drop the original 'rating' column if not needed anymore\n",
    "#X_train = X_train.drop('rating', axis=1)\n",
    "#X_test = X_test.drop('rating', axis=1)"
   ]
  },
  {
   "cell_type": "code",
   "execution_count": 160,
   "id": "b397cb67-96b9-4460-b593-4ac3a02f27dd",
   "metadata": {},
   "outputs": [
    {
     "data": {
      "text/plain": [
       "(4987, 1)"
      ]
     },
     "execution_count": 160,
     "metadata": {},
     "output_type": "execute_result"
    }
   ],
   "source": [
    "X_train_rating_encoded.shape"
   ]
  },
  {
   "cell_type": "code",
   "execution_count": 162,
   "id": "7586e803-93bb-43a5-9c49-75c3e7d23181",
   "metadata": {},
   "outputs": [
    {
     "data": {
      "text/plain": [
       "(1247, 1)"
      ]
     },
     "execution_count": 162,
     "metadata": {},
     "output_type": "execute_result"
    }
   ],
   "source": [
    "X_test_rating_encoded.shape"
   ]
  },
  {
   "cell_type": "code",
   "execution_count": 174,
   "id": "943eb255-f0e0-4bee-84e5-d40d75131b20",
   "metadata": {},
   "outputs": [
    {
     "name": "stdout",
     "output_type": "stream",
     "text": [
      "(4987, 1)\n",
      "(1247, 1)\n"
     ]
    }
   ],
   "source": [
    "print(X_train_rating_encoded.shape)\n",
    "print(X_test_rating_encoded.shape)"
   ]
  },
  {
   "cell_type": "code",
   "execution_count": 175,
   "id": "ed8e9ccb-8b8a-4fdd-b90c-931e6db7c288",
   "metadata": {},
   "outputs": [
    {
     "data": {
      "text/plain": [
       "numpy.ndarray"
      ]
     },
     "execution_count": 175,
     "metadata": {},
     "output_type": "execute_result"
    }
   ],
   "source": [
    "type(X_train_rating_encoded)"
   ]
  },
  {
   "cell_type": "code",
   "execution_count": 179,
   "id": "b28479b2-c11c-41f4-9931-d68e867938a8",
   "metadata": {},
   "outputs": [],
   "source": [
    "X_train_transformed = np.concatenate((X_train_num_trans,X_train_rating_encoded), axis=1)\n",
    "X_test_transformed =np.concatenate((X_test_num_trans,X_test_rating_encoded),axis=1)"
   ]
  },
  {
   "cell_type": "code",
   "execution_count": 180,
   "id": "dde1428c-3636-44b9-8cab-23d8f6c125a4",
   "metadata": {},
   "outputs": [
    {
     "data": {
      "text/plain": [
       "numpy.ndarray"
      ]
     },
     "execution_count": 180,
     "metadata": {},
     "output_type": "execute_result"
    }
   ],
   "source": [
    "type(X_train_transformed)"
   ]
  },
  {
   "cell_type": "code",
   "execution_count": 181,
   "id": "56702fde-08f8-4c94-bb17-80b8b3caf3c3",
   "metadata": {},
   "outputs": [
    {
     "name": "stdout",
     "output_type": "stream",
     "text": [
      "<class 'pandas.core.frame.DataFrame'>\n",
      "<class 'pandas.core.frame.DataFrame'>\n"
     ]
    }
   ],
   "source": [
    "X_train_transformed =pd.DataFrame(X_train_transformed)\n",
    "X_test_transformed=pd.DataFrame(X_test_transformed)\n",
    "print(type(X_train_transformed))\n",
    "print(type(X_test_transformed))"
   ]
  },
  {
   "cell_type": "code",
   "execution_count": 182,
   "id": "5d3b8cf9-f14d-4b49-b408-e237122b02ed",
   "metadata": {},
   "outputs": [
    {
     "data": {
      "text/html": [
       "<div>\n",
       "<style scoped>\n",
       "    .dataframe tbody tr th:only-of-type {\n",
       "        vertical-align: middle;\n",
       "    }\n",
       "\n",
       "    .dataframe tbody tr th {\n",
       "        vertical-align: top;\n",
       "    }\n",
       "\n",
       "    .dataframe thead th {\n",
       "        text-align: right;\n",
       "    }\n",
       "</style>\n",
       "<table border=\"1\" class=\"dataframe\">\n",
       "  <thead>\n",
       "    <tr style=\"text-align: right;\">\n",
       "      <th></th>\n",
       "      <th>0</th>\n",
       "      <th>1</th>\n",
       "      <th>2</th>\n",
       "    </tr>\n",
       "  </thead>\n",
       "  <tbody>\n",
       "    <tr>\n",
       "      <th>0</th>\n",
       "      <td>0.070894</td>\n",
       "      <td>0.192057</td>\n",
       "      <td>5.0</td>\n",
       "    </tr>\n",
       "    <tr>\n",
       "      <th>1</th>\n",
       "      <td>-0.146848</td>\n",
       "      <td>0.415532</td>\n",
       "      <td>8.0</td>\n",
       "    </tr>\n",
       "    <tr>\n",
       "      <th>2</th>\n",
       "      <td>0.245087</td>\n",
       "      <td>0.527270</td>\n",
       "      <td>8.0</td>\n",
       "    </tr>\n",
       "    <tr>\n",
       "      <th>3</th>\n",
       "      <td>0.266861</td>\n",
       "      <td>0.192057</td>\n",
       "      <td>9.0</td>\n",
       "    </tr>\n",
       "    <tr>\n",
       "      <th>4</th>\n",
       "      <td>1.050731</td>\n",
       "      <td>0.415532</td>\n",
       "      <td>6.0</td>\n",
       "    </tr>\n",
       "    <tr>\n",
       "      <th>...</th>\n",
       "      <td>...</td>\n",
       "      <td>...</td>\n",
       "      <td>...</td>\n",
       "    </tr>\n",
       "    <tr>\n",
       "      <th>4982</th>\n",
       "      <td>0.353958</td>\n",
       "      <td>0.192057</td>\n",
       "      <td>5.0</td>\n",
       "    </tr>\n",
       "    <tr>\n",
       "      <th>4983</th>\n",
       "      <td>0.136216</td>\n",
       "      <td>0.303794</td>\n",
       "      <td>2.0</td>\n",
       "    </tr>\n",
       "    <tr>\n",
       "      <th>4984</th>\n",
       "      <td>0.680570</td>\n",
       "      <td>0.303794</td>\n",
       "      <td>9.0</td>\n",
       "    </tr>\n",
       "    <tr>\n",
       "      <th>4985</th>\n",
       "      <td>0.332184</td>\n",
       "      <td>-0.031419</td>\n",
       "      <td>5.0</td>\n",
       "    </tr>\n",
       "    <tr>\n",
       "      <th>4986</th>\n",
       "      <td>-1.671039</td>\n",
       "      <td>0.527270</td>\n",
       "      <td>6.0</td>\n",
       "    </tr>\n",
       "  </tbody>\n",
       "</table>\n",
       "<p>4987 rows × 3 columns</p>\n",
       "</div>"
      ],
      "text/plain": [
       "             0         1    2\n",
       "0     0.070894  0.192057  5.0\n",
       "1    -0.146848  0.415532  8.0\n",
       "2     0.245087  0.527270  8.0\n",
       "3     0.266861  0.192057  9.0\n",
       "4     1.050731  0.415532  6.0\n",
       "...        ...       ...  ...\n",
       "4982  0.353958  0.192057  5.0\n",
       "4983  0.136216  0.303794  2.0\n",
       "4984  0.680570  0.303794  9.0\n",
       "4985  0.332184 -0.031419  5.0\n",
       "4986 -1.671039  0.527270  6.0\n",
       "\n",
       "[4987 rows x 3 columns]"
      ]
     },
     "execution_count": 182,
     "metadata": {},
     "output_type": "execute_result"
    }
   ],
   "source": [
    "X_train_transformed"
   ]
  },
  {
   "cell_type": "code",
   "execution_count": 183,
   "id": "63e55ba7-5d3d-45dd-8161-f918854fb12d",
   "metadata": {},
   "outputs": [
    {
     "data": {
      "text/html": [
       "<div>\n",
       "<style scoped>\n",
       "    .dataframe tbody tr th:only-of-type {\n",
       "        vertical-align: middle;\n",
       "    }\n",
       "\n",
       "    .dataframe tbody tr th {\n",
       "        vertical-align: top;\n",
       "    }\n",
       "\n",
       "    .dataframe thead th {\n",
       "        text-align: right;\n",
       "    }\n",
       "</style>\n",
       "<table border=\"1\" class=\"dataframe\">\n",
       "  <thead>\n",
       "    <tr style=\"text-align: right;\">\n",
       "      <th></th>\n",
       "      <th>0</th>\n",
       "      <th>1</th>\n",
       "      <th>2</th>\n",
       "    </tr>\n",
       "  </thead>\n",
       "  <tbody>\n",
       "    <tr>\n",
       "      <th>0</th>\n",
       "      <td>-1.671039</td>\n",
       "      <td>0.080319</td>\n",
       "      <td>9.0</td>\n",
       "    </tr>\n",
       "    <tr>\n",
       "      <th>1</th>\n",
       "      <td>0.266861</td>\n",
       "      <td>0.303794</td>\n",
       "      <td>6.0</td>\n",
       "    </tr>\n",
       "    <tr>\n",
       "      <th>2</th>\n",
       "      <td>-1.671039</td>\n",
       "      <td>0.527270</td>\n",
       "      <td>8.0</td>\n",
       "    </tr>\n",
       "    <tr>\n",
       "      <th>3</th>\n",
       "      <td>0.223313</td>\n",
       "      <td>0.192057</td>\n",
       "      <td>6.0</td>\n",
       "    </tr>\n",
       "    <tr>\n",
       "      <th>4</th>\n",
       "      <td>0.593474</td>\n",
       "      <td>0.639008</td>\n",
       "      <td>6.0</td>\n",
       "    </tr>\n",
       "    <tr>\n",
       "      <th>...</th>\n",
       "      <td>...</td>\n",
       "      <td>...</td>\n",
       "      <td>...</td>\n",
       "    </tr>\n",
       "    <tr>\n",
       "      <th>1242</th>\n",
       "      <td>0.571700</td>\n",
       "      <td>-1.372274</td>\n",
       "      <td>3.0</td>\n",
       "    </tr>\n",
       "    <tr>\n",
       "      <th>1243</th>\n",
       "      <td>1.181376</td>\n",
       "      <td>-2.824867</td>\n",
       "      <td>9.0</td>\n",
       "    </tr>\n",
       "    <tr>\n",
       "      <th>1244</th>\n",
       "      <td>0.266861</td>\n",
       "      <td>0.639008</td>\n",
       "      <td>8.0</td>\n",
       "    </tr>\n",
       "    <tr>\n",
       "      <th>1245</th>\n",
       "      <td>-1.671039</td>\n",
       "      <td>-0.813585</td>\n",
       "      <td>6.0</td>\n",
       "    </tr>\n",
       "    <tr>\n",
       "      <th>1246</th>\n",
       "      <td>0.484603</td>\n",
       "      <td>0.415532</td>\n",
       "      <td>8.0</td>\n",
       "    </tr>\n",
       "  </tbody>\n",
       "</table>\n",
       "<p>1247 rows × 3 columns</p>\n",
       "</div>"
      ],
      "text/plain": [
       "             0         1    2\n",
       "0    -1.671039  0.080319  9.0\n",
       "1     0.266861  0.303794  6.0\n",
       "2    -1.671039  0.527270  8.0\n",
       "3     0.223313  0.192057  6.0\n",
       "4     0.593474  0.639008  6.0\n",
       "...        ...       ...  ...\n",
       "1242  0.571700 -1.372274  3.0\n",
       "1243  1.181376 -2.824867  9.0\n",
       "1244  0.266861  0.639008  8.0\n",
       "1245 -1.671039 -0.813585  6.0\n",
       "1246  0.484603  0.415532  8.0\n",
       "\n",
       "[1247 rows x 3 columns]"
      ]
     },
     "execution_count": 183,
     "metadata": {},
     "output_type": "execute_result"
    }
   ],
   "source": [
    "X_test_transformed"
   ]
  },
  {
   "cell_type": "code",
   "execution_count": 184,
   "id": "173959f3-47d8-4ef4-84c7-49b2de3c81e8",
   "metadata": {},
   "outputs": [
    {
     "name": "stdout",
     "output_type": "stream",
     "text": [
      "y_train_encoded: [0 0 0 ... 0 0 1]\n",
      "y_test_encoded: [1 1 1 ... 1 1 0]\n"
     ]
    }
   ],
   "source": [
    "from sklearn.preprocessing import LabelEncoder\n",
    "\n",
    "# Initialize LabelEncoder\n",
    "label_encoder = LabelEncoder()\n",
    "\n",
    "# Fit and transform y_train and y_test\n",
    "y_train_encoded = label_encoder.fit_transform(y_train)\n",
    "y_test_encoded = label_encoder.transform(y_test)\n",
    "\n",
    "# Now y_train_encoded and y_test_encoded will contain binary encoding (0 for 'movie', 1 for 'tv show')\n",
    "print(\"y_train_encoded:\", y_train_encoded)\n",
    "print(\"y_test_encoded:\", y_test_encoded)"
   ]
  },
  {
   "cell_type": "markdown",
   "id": "6eca3442-2b5d-4048-9522-2b5e54ba4d7d",
   "metadata": {},
   "source": [
    "# USING RANDOM FOREST CLASSIFIER"
   ]
  },
  {
   "cell_type": "code",
   "execution_count": 185,
   "id": "62810e21-2af7-479a-98c9-494fa76066e4",
   "metadata": {},
   "outputs": [],
   "source": [
    "from sklearn.ensemble import RandomForestClassifier\n",
    "from sklearn.metrics import accuracy_score, classification_report, confusion_matrix\n",
    "\n",
    "# Initialize RandomForestClassifier\n",
    "rf_classifier = RandomForestClassifier(n_estimators=100,random_state=42)"
   ]
  },
  {
   "cell_type": "code",
   "execution_count": 205,
   "id": "190157b7-3e2c-44e0-91fe-76fea3ec98b1",
   "metadata": {},
   "outputs": [],
   "source": [
    "# Train the model\n",
    "rf_classifier.fit(X_train_transformed, y_train_encoded)\n",
    "\n",
    "# Make predictions\n",
    "y_pred = rf_classifier.predict(X_test_transformed)"
   ]
  },
  {
   "cell_type": "code",
   "execution_count": 206,
   "id": "4468d285-d38a-4613-b8ad-a6046267bf9c",
   "metadata": {},
   "outputs": [
    {
     "name": "stdout",
     "output_type": "stream",
     "text": [
      "Accuracy on test data: 0.9839615076182838\n",
      "Classification Report:\n",
      "              precision    recall  f1-score   support\n",
      "\n",
      "           0       1.00      0.98      0.99       832\n",
      "           1       0.96      0.99      0.98       415\n",
      "\n",
      "    accuracy                           0.98      1247\n",
      "   macro avg       0.98      0.99      0.98      1247\n",
      "weighted avg       0.98      0.98      0.98      1247\n",
      "\n",
      "Confusion Matrix:\n",
      "[[815  17]\n",
      " [  3 412]]\n"
     ]
    }
   ],
   "source": [
    "# Evaluate the model\n",
    "print(\"Accuracy on test data:\", accuracy_score(y_test_encoded, y_pred))\n",
    "print(\"Classification Report:\")\n",
    "print(classification_report(y_test_encoded, y_pred))\n",
    "print(\"Confusion Matrix:\")\n",
    "print(confusion_matrix(y_test_encoded, y_pred))"
   ]
  },
  {
   "cell_type": "code",
   "execution_count": 207,
   "id": "608a1c98-e717-4859-8c8f-0e2f6efdd342",
   "metadata": {},
   "outputs": [
    {
     "name": "stdout",
     "output_type": "stream",
     "text": [
      "Training Accuracy: 98.96%\n"
     ]
    }
   ],
   "source": [
    "# Predict on the training data\n",
    "y_train_pred = rf_classifier.predict(X_train_transformed)\n",
    "\n",
    "# Calculate the accuracy on the training set\n",
    "train_accuracy = accuracy_score(y_train_encoded, y_train_pred)\n",
    "\n",
    "# Print the training accuracy\n",
    "print(\"Training Accuracy: {:.2f}%\".format(train_accuracy * 100))"
   ]
  },
  {
   "cell_type": "markdown",
   "id": "0368edfa-0798-4346-994a-482129f16f42",
   "metadata": {},
   "source": [
    "## Key Observations:\n",
    "### Training Accuracy: <b>98.96%\n",
    "- The model is performing very well on the training data. It's able to fit the training set almost perfectly.\n",
    "\n",
    "### Test Accuracy: <b>98.30%\n",
    "- The model is also performing very well on the test data, which is close to the training accuracy. The difference between training and test accuracy is very small (only 0.4%), which indicates that the model is generalizing well to unseen data."
   ]
  },
  {
   "cell_type": "markdown",
   "id": "5c7ceccb-7164-4abc-aae0-ea283a7af4bf",
   "metadata": {},
   "source": [
    "# HYPERPARAMETER TUNING"
   ]
  },
  {
   "cell_type": "code",
   "execution_count": 211,
   "id": "aaa9d790-abf4-41f5-800a-ac56ccee8c5e",
   "metadata": {},
   "outputs": [
    {
     "name": "stdout",
     "output_type": "stream",
     "text": [
      "Fitting 3 folds for each of 162 candidates, totalling 486 fits\n",
      "Best Hyperparameters for Random Forest:  {'bootstrap': True, 'max_depth': 20, 'min_samples_leaf': 1, 'min_samples_split': 10, 'n_estimators': 100}\n",
      "Test Accuracy (Random Forest) with Best Hyperparameters: 98.48%\n"
     ]
    }
   ],
   "source": [
    "from sklearn.model_selection import GridSearchCV\n",
    "import warnings\n",
    "warnings.filterwarnings('ignore')\n",
    "# Define the parameter grid for Random Forest\n",
    "param_grid_rf = {\n",
    "    'n_estimators': [50, 100, 200],           # Number of trees in the forest\n",
    "    'max_depth': [10, 20, None],              # Maximum depth of the tree\n",
    "    'min_samples_split': [2, 5, 10],          # Minimum number of samples required to split an internal node\n",
    "    'min_samples_leaf': [1, 2, 4],            # Minimum number of samples required to be at a leaf node\n",
    "    'bootstrap': [True, False]                # Whether bootstrap samples are used when building trees\n",
    "}\n",
    "\n",
    "# Initialize GridSearchCV for Random Forest\n",
    "grid_search_rf = GridSearchCV(estimator=rf_classifier, param_grid=param_grid_rf, cv=3, n_jobs=-1, verbose=2)\n",
    "\n",
    "# Fit GridSearchCV on the training data\n",
    "grid_search_rf.fit(X_train_transformed, y_train_encoded)\n",
    "\n",
    "# Get the best hyperparameters from the grid search\n",
    "print(\"Best Hyperparameters for Random Forest: \", grid_search_rf.best_params_)\n",
    "\n",
    "# Evaluate the model with the best hyperparameters\n",
    "best_rf_model = grid_search_rf.best_estimator_\n",
    "\n",
    "# Predict on the test set\n",
    "y_test_pred_rf = best_rf_model.predict(X_test_transformed)\n",
    "\n",
    "# Calculate the test accuracy\n",
    "test_accuracy_rf = accuracy_score(y_test_encoded, y_test_pred_rf)\n",
    "print(\"Test Accuracy (Random Forest) with Best Hyperparameters: {:.2f}%\".format(test_accuracy_rf * 100))"
   ]
  },
  {
   "cell_type": "markdown",
   "id": "c09c257b-1480-4f48-ba8f-2d1e45c88f28",
   "metadata": {},
   "source": [
    "# Conclusion:\n",
    "### <b>Improved Generalization:\n",
    "- *The slight improvement in test accuracy suggests that the model is now generalizing better to new, unseen data. The difference between training and test accuracy is still minimal (only 0.48%), which means the model is not overfitting and is performing well in terms of generalization.*\n",
    "\n",
    "### <b>Better Model with Hyperparameter Tuning:\n",
    "-  *The hyperparameter tuning has improved the model's performance on the test set without causing overfitting, which is a good sign that the model is well-optimized.*"
   ]
  }
 ],
 "metadata": {
  "kernelspec": {
   "display_name": "Python 3 (ipykernel)",
   "language": "python",
   "name": "python3"
  },
  "language_info": {
   "codemirror_mode": {
    "name": "ipython",
    "version": 3
   },
   "file_extension": ".py",
   "mimetype": "text/x-python",
   "name": "python",
   "nbconvert_exporter": "python",
   "pygments_lexer": "ipython3",
   "version": "3.12.7"
  }
 },
 "nbformat": 4,
 "nbformat_minor": 5
}
